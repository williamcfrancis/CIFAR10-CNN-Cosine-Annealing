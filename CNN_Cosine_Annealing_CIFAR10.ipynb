{
  "nbformat": 4,
  "nbformat_minor": 0,
  "metadata": {
    "colab": {
      "provenance": []
    },
    "kernelspec": {
      "name": "python3",
      "display_name": "Python 3"
    },
    "language_info": {
      "name": "python"
    },
    "accelerator": "GPU",
    "widgets": {
      "application/vnd.jupyter.widget-state+json": {
        "7a60c855fa3e4e388f75435d82a35f70": {
          "model_module": "@jupyter-widgets/controls",
          "model_name": "HBoxModel",
          "model_module_version": "1.5.0",
          "state": {
            "_view_name": "HBoxView",
            "_dom_classes": [],
            "_model_name": "HBoxModel",
            "_view_module": "@jupyter-widgets/controls",
            "_model_module_version": "1.5.0",
            "_view_count": null,
            "_view_module_version": "1.5.0",
            "box_style": "",
            "layout": "IPY_MODEL_08a5b23fa01d43898018295e6c2200b0",
            "_model_module": "@jupyter-widgets/controls",
            "children": [
              "IPY_MODEL_b5ee8ef9315e44efb6e7c03b844ed82d",
              "IPY_MODEL_981b9d05729549a3925f54d6d7252960",
              "IPY_MODEL_1045254ddc4d49e4ad7762933e74d94c"
            ]
          }
        },
        "08a5b23fa01d43898018295e6c2200b0": {
          "model_module": "@jupyter-widgets/base",
          "model_name": "LayoutModel",
          "model_module_version": "1.2.0",
          "state": {
            "_view_name": "LayoutView",
            "grid_template_rows": null,
            "right": null,
            "justify_content": null,
            "_view_module": "@jupyter-widgets/base",
            "overflow": null,
            "_model_module_version": "1.2.0",
            "_view_count": null,
            "flex_flow": null,
            "width": null,
            "min_width": null,
            "border": null,
            "align_items": null,
            "bottom": null,
            "_model_module": "@jupyter-widgets/base",
            "top": null,
            "grid_column": null,
            "overflow_y": null,
            "overflow_x": null,
            "grid_auto_flow": null,
            "grid_area": null,
            "grid_template_columns": null,
            "flex": null,
            "_model_name": "LayoutModel",
            "justify_items": null,
            "grid_row": null,
            "max_height": null,
            "align_content": null,
            "visibility": null,
            "align_self": null,
            "height": null,
            "min_height": null,
            "padding": null,
            "grid_auto_rows": null,
            "grid_gap": null,
            "max_width": null,
            "order": null,
            "_view_module_version": "1.2.0",
            "grid_template_areas": null,
            "object_position": null,
            "object_fit": null,
            "grid_auto_columns": null,
            "margin": null,
            "display": null,
            "left": null
          }
        },
        "b5ee8ef9315e44efb6e7c03b844ed82d": {
          "model_module": "@jupyter-widgets/controls",
          "model_name": "HTMLModel",
          "model_module_version": "1.5.0",
          "state": {
            "_view_name": "HTMLView",
            "style": "IPY_MODEL_dd957b4c68e34753bb296a89a0763952",
            "_dom_classes": [],
            "description": "",
            "_model_name": "HTMLModel",
            "placeholder": "​",
            "_view_module": "@jupyter-widgets/controls",
            "_model_module_version": "1.5.0",
            "value": "",
            "_view_count": null,
            "_view_module_version": "1.5.0",
            "description_tooltip": null,
            "_model_module": "@jupyter-widgets/controls",
            "layout": "IPY_MODEL_9730286e8fd04183a3c2ec1c92472ca9"
          }
        },
        "981b9d05729549a3925f54d6d7252960": {
          "model_module": "@jupyter-widgets/controls",
          "model_name": "FloatProgressModel",
          "model_module_version": "1.5.0",
          "state": {
            "_view_name": "ProgressView",
            "style": "IPY_MODEL_4aaeb585ac904fd58ffa0d6f4ccc7f22",
            "_dom_classes": [],
            "description": "",
            "_model_name": "FloatProgressModel",
            "bar_style": "success",
            "max": 170498071,
            "_view_module": "@jupyter-widgets/controls",
            "_model_module_version": "1.5.0",
            "value": 170498071,
            "_view_count": null,
            "_view_module_version": "1.5.0",
            "orientation": "horizontal",
            "min": 0,
            "description_tooltip": null,
            "_model_module": "@jupyter-widgets/controls",
            "layout": "IPY_MODEL_be36a54d52184cc184de6eb3db54e4d8"
          }
        },
        "1045254ddc4d49e4ad7762933e74d94c": {
          "model_module": "@jupyter-widgets/controls",
          "model_name": "HTMLModel",
          "model_module_version": "1.5.0",
          "state": {
            "_view_name": "HTMLView",
            "style": "IPY_MODEL_fe04c0dee5984634a82c5bb19448fe69",
            "_dom_classes": [],
            "description": "",
            "_model_name": "HTMLModel",
            "placeholder": "​",
            "_view_module": "@jupyter-widgets/controls",
            "_model_module_version": "1.5.0",
            "value": " 170499072/? [00:03&lt;00:00, 55291209.75it/s]",
            "_view_count": null,
            "_view_module_version": "1.5.0",
            "description_tooltip": null,
            "_model_module": "@jupyter-widgets/controls",
            "layout": "IPY_MODEL_0d76190bd841463f9e8e0e2659c9ccbf"
          }
        },
        "dd957b4c68e34753bb296a89a0763952": {
          "model_module": "@jupyter-widgets/controls",
          "model_name": "DescriptionStyleModel",
          "model_module_version": "1.5.0",
          "state": {
            "_view_name": "StyleView",
            "_model_name": "DescriptionStyleModel",
            "description_width": "",
            "_view_module": "@jupyter-widgets/base",
            "_model_module_version": "1.5.0",
            "_view_count": null,
            "_view_module_version": "1.2.0",
            "_model_module": "@jupyter-widgets/controls"
          }
        },
        "9730286e8fd04183a3c2ec1c92472ca9": {
          "model_module": "@jupyter-widgets/base",
          "model_name": "LayoutModel",
          "model_module_version": "1.2.0",
          "state": {
            "_view_name": "LayoutView",
            "grid_template_rows": null,
            "right": null,
            "justify_content": null,
            "_view_module": "@jupyter-widgets/base",
            "overflow": null,
            "_model_module_version": "1.2.0",
            "_view_count": null,
            "flex_flow": null,
            "width": null,
            "min_width": null,
            "border": null,
            "align_items": null,
            "bottom": null,
            "_model_module": "@jupyter-widgets/base",
            "top": null,
            "grid_column": null,
            "overflow_y": null,
            "overflow_x": null,
            "grid_auto_flow": null,
            "grid_area": null,
            "grid_template_columns": null,
            "flex": null,
            "_model_name": "LayoutModel",
            "justify_items": null,
            "grid_row": null,
            "max_height": null,
            "align_content": null,
            "visibility": null,
            "align_self": null,
            "height": null,
            "min_height": null,
            "padding": null,
            "grid_auto_rows": null,
            "grid_gap": null,
            "max_width": null,
            "order": null,
            "_view_module_version": "1.2.0",
            "grid_template_areas": null,
            "object_position": null,
            "object_fit": null,
            "grid_auto_columns": null,
            "margin": null,
            "display": null,
            "left": null
          }
        },
        "4aaeb585ac904fd58ffa0d6f4ccc7f22": {
          "model_module": "@jupyter-widgets/controls",
          "model_name": "ProgressStyleModel",
          "model_module_version": "1.5.0",
          "state": {
            "_view_name": "StyleView",
            "_model_name": "ProgressStyleModel",
            "description_width": "",
            "_view_module": "@jupyter-widgets/base",
            "_model_module_version": "1.5.0",
            "_view_count": null,
            "_view_module_version": "1.2.0",
            "bar_color": null,
            "_model_module": "@jupyter-widgets/controls"
          }
        },
        "be36a54d52184cc184de6eb3db54e4d8": {
          "model_module": "@jupyter-widgets/base",
          "model_name": "LayoutModel",
          "model_module_version": "1.2.0",
          "state": {
            "_view_name": "LayoutView",
            "grid_template_rows": null,
            "right": null,
            "justify_content": null,
            "_view_module": "@jupyter-widgets/base",
            "overflow": null,
            "_model_module_version": "1.2.0",
            "_view_count": null,
            "flex_flow": null,
            "width": null,
            "min_width": null,
            "border": null,
            "align_items": null,
            "bottom": null,
            "_model_module": "@jupyter-widgets/base",
            "top": null,
            "grid_column": null,
            "overflow_y": null,
            "overflow_x": null,
            "grid_auto_flow": null,
            "grid_area": null,
            "grid_template_columns": null,
            "flex": null,
            "_model_name": "LayoutModel",
            "justify_items": null,
            "grid_row": null,
            "max_height": null,
            "align_content": null,
            "visibility": null,
            "align_self": null,
            "height": null,
            "min_height": null,
            "padding": null,
            "grid_auto_rows": null,
            "grid_gap": null,
            "max_width": null,
            "order": null,
            "_view_module_version": "1.2.0",
            "grid_template_areas": null,
            "object_position": null,
            "object_fit": null,
            "grid_auto_columns": null,
            "margin": null,
            "display": null,
            "left": null
          }
        },
        "fe04c0dee5984634a82c5bb19448fe69": {
          "model_module": "@jupyter-widgets/controls",
          "model_name": "DescriptionStyleModel",
          "model_module_version": "1.5.0",
          "state": {
            "_view_name": "StyleView",
            "_model_name": "DescriptionStyleModel",
            "description_width": "",
            "_view_module": "@jupyter-widgets/base",
            "_model_module_version": "1.5.0",
            "_view_count": null,
            "_view_module_version": "1.2.0",
            "_model_module": "@jupyter-widgets/controls"
          }
        },
        "0d76190bd841463f9e8e0e2659c9ccbf": {
          "model_module": "@jupyter-widgets/base",
          "model_name": "LayoutModel",
          "model_module_version": "1.2.0",
          "state": {
            "_view_name": "LayoutView",
            "grid_template_rows": null,
            "right": null,
            "justify_content": null,
            "_view_module": "@jupyter-widgets/base",
            "overflow": null,
            "_model_module_version": "1.2.0",
            "_view_count": null,
            "flex_flow": null,
            "width": null,
            "min_width": null,
            "border": null,
            "align_items": null,
            "bottom": null,
            "_model_module": "@jupyter-widgets/base",
            "top": null,
            "grid_column": null,
            "overflow_y": null,
            "overflow_x": null,
            "grid_auto_flow": null,
            "grid_area": null,
            "grid_template_columns": null,
            "flex": null,
            "_model_name": "LayoutModel",
            "justify_items": null,
            "grid_row": null,
            "max_height": null,
            "align_content": null,
            "visibility": null,
            "align_self": null,
            "height": null,
            "min_height": null,
            "padding": null,
            "grid_auto_rows": null,
            "grid_gap": null,
            "max_width": null,
            "order": null,
            "_view_module_version": "1.2.0",
            "grid_template_areas": null,
            "object_position": null,
            "object_fit": null,
            "grid_auto_columns": null,
            "margin": null,
            "display": null,
            "left": null
          }
        }
      }
    }
  },
  "cells": [
    {
      "cell_type": "markdown",
      "metadata": {
        "id": "8JEpj5I8NSJl"
      },
      "source": [
        "###Author: William C Francis"
      ]
    },
    {
      "cell_type": "code",
      "metadata": {
        "colab": {
          "base_uri": "https://localhost:8080/"
        },
        "id": "3E7JtH2xWRHO",
        "outputId": "839b96c3-d3c3-4219-9b48-889d1adc328a"
      },
      "source": [
        "import torch\n",
        "import torchvision\n",
        "import torch.nn as nn\n",
        "import torchvision.transforms as transforms\n",
        "import torch.optim as optim\n",
        "import numpy as np\n",
        "import matplotlib.pyplot as plt\n",
        "device = torch.device('cuda' if torch.cuda.is_available() else 'cpu')\n",
        "print(device)"
      ],
      "execution_count": null,
      "outputs": [
        {
          "output_type": "stream",
          "name": "stdout",
          "text": [
            "cuda\n"
          ]
        }
      ]
    },
    {
      "cell_type": "code",
      "metadata": {
        "colab": {
          "base_uri": "https://localhost:8080/"
        },
        "id": "lZ0VOfkAWUpA",
        "outputId": "45009330-bb55-432e-c86a-880a9c87c762"
      },
      "source": [
        "from google.colab import drive\n",
        "drive.mount('/content/drive')"
      ],
      "execution_count": null,
      "outputs": [
        {
          "output_type": "stream",
          "name": "stdout",
          "text": [
            "Mounted at /content/drive\n"
          ]
        }
      ]
    },
    {
      "cell_type": "code",
      "metadata": {
        "colab": {
          "base_uri": "https://localhost:8080/",
          "height": 101,
          "referenced_widgets": [
            "7a60c855fa3e4e388f75435d82a35f70",
            "08a5b23fa01d43898018295e6c2200b0",
            "b5ee8ef9315e44efb6e7c03b844ed82d",
            "981b9d05729549a3925f54d6d7252960",
            "1045254ddc4d49e4ad7762933e74d94c",
            "dd957b4c68e34753bb296a89a0763952",
            "9730286e8fd04183a3c2ec1c92472ca9",
            "4aaeb585ac904fd58ffa0d6f4ccc7f22",
            "be36a54d52184cc184de6eb3db54e4d8",
            "fe04c0dee5984634a82c5bb19448fe69",
            "0d76190bd841463f9e8e0e2659c9ccbf"
          ]
        },
        "id": "K8M9UgerXWqK",
        "outputId": "5feeeb89-5a09-4aa5-8d72-7e84c50f28e6"
      },
      "source": [
        "# Reading in the dataset\n",
        "transform = transforms.Compose(\n",
        "    [transforms.ToTensor(),\n",
        "     transforms.Normalize((0.5, 0.5, 0.5), (0.5, 0.5, 0.5))])\n",
        "\n",
        "trainset = torchvision.datasets.CIFAR10(root='./data', train=True,\n",
        "                                        download=True, transform=transform)\n",
        "trainloader = torch.utils.data.DataLoader(trainset, batch_size=128,\n",
        "                                          shuffle=True)\n",
        "\n",
        "testset = torchvision.datasets.CIFAR10(root='./data', train=False,\n",
        "                                       download=True, transform=transform)\n",
        "testloader = torch.utils.data.DataLoader(testset, batch_size=128,\n",
        "                                         shuffle=False)\n",
        "\n",
        "classes = ('plane', 'car', 'bird', 'cat',\n",
        "           'deer', 'dog', 'frog', 'horse', 'ship', 'truck')\n",
        "\n"
      ],
      "execution_count": null,
      "outputs": [
        {
          "output_type": "stream",
          "name": "stdout",
          "text": [
            "Downloading https://www.cs.toronto.edu/~kriz/cifar-10-python.tar.gz to ./data/cifar-10-python.tar.gz\n"
          ]
        },
        {
          "output_type": "display_data",
          "data": {
            "application/vnd.jupyter.widget-view+json": {
              "model_id": "7a60c855fa3e4e388f75435d82a35f70",
              "version_minor": 0,
              "version_major": 2
            },
            "text/plain": [
              "  0%|          | 0/170498071 [00:00<?, ?it/s]"
            ]
          },
          "metadata": {}
        },
        {
          "output_type": "stream",
          "name": "stdout",
          "text": [
            "Extracting ./data/cifar-10-python.tar.gz to ./data\n",
            "Files already downloaded and verified\n"
          ]
        }
      ]
    },
    {
      "cell_type": "markdown",
      "metadata": {
        "id": "_k72aV4Z3Eci"
      },
      "source": [
        "####Defining the model"
      ]
    },
    {
      "cell_type": "code",
      "metadata": {
        "id": "P6ciyDCa2msJ"
      },
      "source": [
        "class View(nn.Module):\n",
        "    def __init__(self,o):\n",
        "        super().__init__()\n",
        "        self.o = o\n",
        "\n",
        "    def forward(self,x):\n",
        "        return x.view(-1, self.o)\n",
        "    \n",
        "class allcnn_t(nn.Module):\n",
        "    def __init__(self, c1=96, c2= 192):\n",
        "        super().__init__()\n",
        "        d = 0.5\n",
        "\n",
        "        def convbn(ci,co,ksz,s=1,pz=0):\n",
        "            return nn.Sequential(\n",
        "                nn.Conv2d(ci,co,ksz,stride=s,padding=pz),\n",
        "                nn.ReLU(True),\n",
        "                nn.BatchNorm2d(co))\n",
        "\n",
        "        self.m = nn.Sequential(\n",
        "            nn.Dropout(0.2),\n",
        "            convbn(3,c1,3,1,1),\n",
        "            convbn(c1,c1,3,1,1),\n",
        "            convbn(c1,c1,3,2,1),\n",
        "            nn.Dropout(d),\n",
        "            convbn(c1,c2,3,1,1),\n",
        "            convbn(c2,c2,3,1,1),\n",
        "            convbn(c2,c2,3,2,1),\n",
        "            nn.Dropout(d),\n",
        "            convbn(c2,c2,3,1,1),\n",
        "            convbn(c2,c2,3,1,1),\n",
        "            convbn(c2,10,1,1),\n",
        "            nn.AvgPool2d(8),\n",
        "            View(10))\n",
        "\n",
        "        print('Num parameters: ', sum([p.numel() for p in self.m.parameters()]))\n",
        "\n",
        "    def forward(self, x):\n",
        "        return self.m(x)"
      ],
      "execution_count": null,
      "outputs": []
    },
    {
      "cell_type": "markdown",
      "metadata": {
        "id": "OhuSuxZ8goOw"
      },
      "source": [
        "###Part (a) : Finding optimal learning rate"
      ]
    },
    {
      "cell_type": "code",
      "metadata": {
        "colab": {
          "base_uri": "https://localhost:8080/"
        },
        "id": "5b4ipCCpXe77",
        "outputId": "f92d8c86-5456-4475-e49d-f82d77c9c79e"
      },
      "source": [
        "#Defining the hyperparameters\n",
        "model = allcnn_t().to(device)\n",
        "epochs = 2\n",
        "startlr = 1e-4\n",
        "criterion = nn.CrossEntropyLoss()\n",
        "optimizer = optim.SGD(model.parameters(), lr=startlr, momentum=0.9, weight_decay=1e-3, nesterov=True)\n",
        "\n",
        "train_loss_batch = []\n",
        "lr_batch = []\n",
        "\n",
        "model = model.to(device)\n",
        "total_step = len(trainloader)\n",
        "overall_step = 0\n",
        "for epoch in range(epochs):\n",
        "    count1 = 0\n",
        "    count2 = 0\n",
        "    correct = 0\n",
        "    total = 0\n",
        "    train_loss=0\n",
        "    test_loss=0\n",
        "    model.train()\n",
        "\n",
        "    for i, (images, labels) in enumerate(trainloader):\n",
        "        # Move tensors to configured device\n",
        "        images = images.to(device)\n",
        "        labels = labels.to(device)\n",
        "        #Forward Pass\n",
        "        outputs = model(images)\n",
        "        loss = criterion(outputs, labels)\n",
        "        optimizer.zero_grad()\n",
        "        loss.backward()\n",
        "        optimizer.step()\n",
        "        optimizer.param_groups[0]['lr'] *= 1.02 #incrementing by a lower value to get a higher resolution in the loss curve\n",
        "        if(len(train_loss_batch) < 600): # Storing first 600 values of loss\n",
        "          train_loss_batch.append(loss.item())\n",
        "          lr_batch.append(optimizer.param_groups[0]['lr'])"
      ],
      "execution_count": null,
      "outputs": [
        {
          "output_type": "stream",
          "name": "stdout",
          "text": [
            "Num parameters:  1667166\n"
          ]
        }
      ]
    },
    {
      "cell_type": "markdown",
      "metadata": {
        "id": "ZJYatVzMgcfA"
      },
      "source": [
        "####Plotting the Loss vs Learning rate"
      ]
    },
    {
      "cell_type": "code",
      "metadata": {
        "colab": {
          "base_uri": "https://localhost:8080/",
          "height": 350
        },
        "id": "AQC0Aty9dPxJ",
        "outputId": "748043e7-d5fa-4426-a168-d50e7b0c949b"
      },
      "source": [
        "plt.figure(figsize=(5,3), dpi=100)\n",
        "plt.plot(lr_batch[:550], train_loss_batch[:550], 'b', label='Training Loss')\n",
        "plt.xscale('log') \n",
        "plt.title('Loss vs Learning rate')\n",
        "plt.xlabel('Learning Rate')\n",
        "plt.ylabel('Loss')\n",
        "plt.legend()\n",
        "    "
      ],
      "execution_count": null,
      "outputs": [
        {
          "output_type": "execute_result",
          "data": {
            "text/plain": [
              "<matplotlib.legend.Legend at 0x7f2abe0c0710>"
            ]
          },
          "metadata": {},
          "execution_count": 6
        },
        {
          "output_type": "display_data",
          "data": {
            "image/png": "[encoded data removed]",
            "text/plain": [
              "<Figure size 500x300 with 1 Axes>"
            ]
          },
          "metadata": {
            "needs_background": "light"
          }
        }
      ]
    },
    {
      "cell_type": "markdown",
      "metadata": {
        "id": "i2hUASYXcM1_"
      },
      "source": [
        "####Finding Global minimum for optimum learning rate"
      ]
    },
    {
      "cell_type": "code",
      "metadata": {
        "id": "Ws2ve7fNG7-w",
        "colab": {
          "base_uri": "https://localhost:8080/"
        },
        "outputId": "061014b5-f6c7-475d-bcce-1a158d1651a6"
      },
      "source": [
        "optim_lr = lr_batch[np.argmin(train_loss_batch[:550])]\n",
        "print(optim_lr)"
      ],
      "execution_count": null,
      "outputs": [
        {
          "output_type": "stream",
          "name": "stdout",
          "text": [
            "0.10234346501391212\n"
          ]
        }
      ]
    },
    {
      "cell_type": "markdown",
      "metadata": {
        "id": "VFAs9j4lgE9o"
      },
      "source": [
        "####Part (c) : Implementing Cosine LR Scheduling with a warm up"
      ]
    },
    {
      "cell_type": "code",
      "metadata": {
        "id": "yasw9BA4dZs6",
        "colab": {
          "base_uri": "https://localhost:8080/"
        },
        "outputId": "61c0c702-1226-4c7b-96fa-6a293386ecaa"
      },
      "source": [
        "model = allcnn_t().to(device)\n",
        "epochs = 100\n",
        "T = epochs * 391\n",
        "T_0 = T/5\n",
        "max_lr = optim_lr/10\n",
        "start_lr = 1e-4\n",
        "criterion = nn.CrossEntropyLoss()\n",
        "optimizer = optim.SGD(model.parameters(), lr=startlr, momentum=0.9, weight_decay=1e-3, nesterov=True)\n",
        "\n",
        "train_loss_tot = []\n",
        "train_acc_tot = []\n",
        "test_loss_tot = []\n",
        "test_acc_tot = []\n",
        "train_loss_batch = []\n",
        "wu_lr = []\n",
        "n_wu = []\n",
        "wu_loss = []\n",
        "wu_err = []\n",
        "model = model.to(device)\n",
        "total_step = len(trainloader)\n",
        "overall_step = 0\n",
        "t=0\n",
        "for epoch in range(epochs):\n",
        "    count1 = 0\n",
        "    count2 = 0\n",
        "    correct = 0\n",
        "    total = 0\n",
        "    train_loss=0\n",
        "    test_loss=0\n",
        "    model.train()\n",
        "\n",
        "    for i, (images, labels) in enumerate(trainloader):\n",
        "        t+=1\n",
        "        wu_lr.append(optimizer.param_groups[0]['lr'])\n",
        "        images = images.to(device)\n",
        "        labels = labels.to(device)\n",
        "        outputs = model(images)\n",
        "        loss = criterion(outputs, labels)\n",
        "        optimizer.zero_grad()\n",
        "        loss.backward()\n",
        "        optimizer.step()\n",
        "        if(t < T_0):\n",
        "          optimizer.param_groups[0]['lr'] = 1e-4 + (t / T_0) * max_lr #Linear warm up\n",
        "        else:\n",
        "          optimizer.param_groups[0]['lr'] = max_lr * np.cos((np.pi/2)*((t-T_0)/(T-T_0))) + 1e-6 #Cosine annealing\n",
        "        train_loss += loss.item()\n",
        "        wu_loss.append(loss.item())\n",
        "        n_wu.append(t)\n",
        "        _, predicted = outputs.max(1)\n",
        "        total += labels.size(0)\n",
        "        correct += predicted.eq(labels).sum().item()\n",
        "        count1+=1\n",
        "        wu_err.append(100 - (100*predicted.eq(labels).sum().item()/labels.size(0))) #Training error per weight update\n",
        "\n",
        "    train_loss = train_loss/count1\n",
        "    train_acc = 100*correct/total\n",
        "    train_loss_tot = np.append(train_loss_tot, train_loss)\n",
        "    train_acc_tot = np.append(train_acc_tot, train_acc)\n",
        "\n",
        "    model.eval()\n",
        "    with torch.no_grad():\n",
        "        correct = 0\n",
        "        total = 0\n",
        "        for i, (images, labels) in enumerate(testloader):\n",
        "            images = images.to(device)\n",
        "            labels = labels.to(device)\n",
        "            outputs = model(images)\n",
        "            loss = criterion(outputs, labels)\n",
        "            _, predicted = torch.max(outputs.data, 1)\n",
        "            total += labels.size(0)\n",
        "            correct += (predicted == labels).sum().item()\n",
        "            test_loss += loss.item()\n",
        "            count2+=1\n",
        "\n",
        "    test_loss = test_loss/count2\n",
        "    test_acc = 100*correct/total\n",
        "    test_loss_tot = np.append(test_loss_tot, test_loss)\n",
        "    test_acc_tot = np.append(test_acc_tot, test_acc)\n",
        "    print(\"Epoch\",epoch+1,\"/\",epochs,\"| Train Loss:\", round(train_loss, 4), \"| Train Accuracy:\", train_acc, \"|| Test Loss:\", round(test_loss,4), \"| Test Accuracy:\", test_acc)\n",
        "    print(\"Learning rate: \",optimizer.param_groups[0]['lr'])"
      ],
      "execution_count": null,
      "outputs": [
        {
          "output_type": "stream",
          "name": "stdout",
          "text": [
            "Num parameters:  1667166\n",
            "Epoch 1 / 100 | Train Loss: 2.0469 | Train Accuracy: 25.064 || Test Loss: 2.1615 | Test Accuracy: 23.55\n",
            "Learning rate:  0.0006117173250695607\n",
            "Epoch 2 / 100 | Train Loss: 1.733 | Train Accuracy: 39.318 || Test Loss: 1.8734 | Test Accuracy: 32.35\n",
            "Learning rate:  0.0011234346501391213\n",
            "Epoch 3 / 100 | Train Loss: 1.532 | Train Accuracy: 47.606 || Test Loss: 1.7294 | Test Accuracy: 37.71\n",
            "Learning rate:  0.0016351519752086817\n",
            "Epoch 4 / 100 | Train Loss: 1.3756 | Train Accuracy: 53.05 || Test Loss: 1.6591 | Test Accuracy: 42.89\n",
            "Learning rate:  0.0021468693002782424\n",
            "Epoch 5 / 100 | Train Loss: 1.2366 | Train Accuracy: 57.898 || Test Loss: 1.3821 | Test Accuracy: 51.71\n",
            "Learning rate:  0.0026585866253478027\n",
            "Epoch 6 / 100 | Train Loss: 1.1213 | Train Accuracy: 62.008 || Test Loss: 1.2121 | Test Accuracy: 57.43\n",
            "Learning rate:  0.003170303950417363\n",
            "Epoch 7 / 100 | Train Loss: 1.0319 | Train Accuracy: 64.686 || Test Loss: 1.0439 | Test Accuracy: 64.35\n",
            "Learning rate:  0.003682021275486924\n",
            "Epoch 8 / 100 | Train Loss: 0.958 | Train Accuracy: 67.308 || Test Loss: 1.0655 | Test Accuracy: 63.57\n",
            "Learning rate:  0.004193738600556485\n",
            "Epoch 9 / 100 | Train Loss: 0.8856 | Train Accuracy: 69.992 || Test Loss: 0.9901 | Test Accuracy: 66.0\n",
            "Learning rate:  0.004705455925626045\n",
            "Epoch 10 / 100 | Train Loss: 0.8238 | Train Accuracy: 72.156 || Test Loss: 0.8679 | Test Accuracy: 70.02\n",
            "Learning rate:  0.005217173250695606\n",
            "Epoch 11 / 100 | Train Loss: 0.7678 | Train Accuracy: 74.082 || Test Loss: 0.7967 | Test Accuracy: 72.94\n",
            "Learning rate:  0.005728890575765167\n",
            "Epoch 12 / 100 | Train Loss: 0.726 | Train Accuracy: 75.398 || Test Loss: 0.8483 | Test Accuracy: 71.19\n",
            "Learning rate:  0.006240607900834727\n",
            "Epoch 13 / 100 | Train Loss: 0.6882 | Train Accuracy: 76.776 || Test Loss: 0.8368 | Test Accuracy: 72.08\n",
            "Learning rate:  0.006752325225904288\n",
            "Epoch 14 / 100 | Train Loss: 0.6591 | Train Accuracy: 77.554 || Test Loss: 0.7964 | Test Accuracy: 73.12\n",
            "Learning rate:  0.007264042550973848\n",
            "Epoch 15 / 100 | Train Loss: 0.6303 | Train Accuracy: 78.654 || Test Loss: 0.7326 | Test Accuracy: 75.09\n",
            "Learning rate:  0.007775759876043409\n",
            "Epoch 16 / 100 | Train Loss: 0.5994 | Train Accuracy: 79.59 || Test Loss: 0.7072 | Test Accuracy: 76.17\n",
            "Learning rate:  0.00828747720111297\n",
            "Epoch 17 / 100 | Train Loss: 0.5704 | Train Accuracy: 80.792 || Test Loss: 0.7889 | Test Accuracy: 73.95\n",
            "Learning rate:  0.00879919452618253\n",
            "Epoch 18 / 100 | Train Loss: 0.5497 | Train Accuracy: 81.622 || Test Loss: 0.7003 | Test Accuracy: 76.41\n",
            "Learning rate:  0.00931091185125209\n",
            "Epoch 19 / 100 | Train Loss: 0.5306 | Train Accuracy: 82.066 || Test Loss: 0.6235 | Test Accuracy: 78.92\n",
            "Learning rate:  0.00982262917632165\n",
            "Epoch 20 / 100 | Train Loss: 0.5067 | Train Accuracy: 83.052 || Test Loss: 0.601 | Test Accuracy: 79.62\n",
            "Learning rate:  0.010235346501391211\n",
            "Epoch 21 / 100 | Train Loss: 0.4878 | Train Accuracy: 83.582 || Test Loss: 0.6069 | Test Accuracy: 79.38\n",
            "Learning rate:  0.010233373733693221\n",
            "Epoch 22 / 100 | Train Loss: 0.4626 | Train Accuracy: 84.662 || Test Loss: 0.5692 | Test Accuracy: 80.68\n",
            "Learning rate:  0.010227456191138753\n",
            "Epoch 23 / 100 | Train Loss: 0.4408 | Train Accuracy: 85.352 || Test Loss: 0.5489 | Test Accuracy: 81.9\n",
            "Learning rate:  0.01021759615505311\n",
            "Epoch 24 / 100 | Train Loss: 0.425 | Train Accuracy: 85.81 || Test Loss: 0.5999 | Test Accuracy: 79.69\n",
            "Learning rate:  0.010203797426667893\n",
            "Epoch 25 / 100 | Train Loss: 0.3987 | Train Accuracy: 86.748 || Test Loss: 0.5709 | Test Accuracy: 81.07\n",
            "Learning rate:  0.010186065325655568\n",
            "Epoch 26 / 100 | Train Loss: 0.3865 | Train Accuracy: 87.082 || Test Loss: 0.5215 | Test Accuracy: 82.77\n",
            "Learning rate:  0.010164406688078617\n",
            "Epoch 27 / 100 | Train Loss: 0.3673 | Train Accuracy: 87.852 || Test Loss: 0.5215 | Test Accuracy: 83.24\n",
            "Learning rate:  0.010138829863754124\n",
            "Epoch 28 / 100 | Train Loss: 0.3562 | Train Accuracy: 88.144 || Test Loss: 0.5057 | Test Accuracy: 83.31\n",
            "Learning rate:  0.010109344713034738\n",
            "Epoch 29 / 100 | Train Loss: 0.3448 | Train Accuracy: 88.658 || Test Loss: 0.5635 | Test Accuracy: 81.65\n",
            "Learning rate:  0.01007596260300734\n",
            "Epoch 30 / 100 | Train Loss: 0.3251 | Train Accuracy: 89.408 || Test Loss: 0.5074 | Test Accuracy: 83.34\n",
            "Learning rate:  0.0100386964031108\n",
            "Epoch 31 / 100 | Train Loss: 0.3172 | Train Accuracy: 89.548 || Test Loss: 0.5192 | Test Accuracy: 83.14\n",
            "Learning rate:  0.009997560480174573\n",
            "Epoch 32 / 100 | Train Loss: 0.3021 | Train Accuracy: 90.086 || Test Loss: 0.5164 | Test Accuracy: 82.96\n",
            "Learning rate:  0.009952570692880011\n",
            "Epoch 33 / 100 | Train Loss: 0.2942 | Train Accuracy: 90.47 || Test Loss: 0.5878 | Test Accuracy: 80.59\n",
            "Learning rate:  0.009903744385646536\n",
            "Epoch 34 / 100 | Train Loss: 0.2859 | Train Accuracy: 90.582 || Test Loss: 0.4747 | Test Accuracy: 84.39\n",
            "Learning rate:  0.009851100381945036\n",
            "Epoch 35 / 100 | Train Loss: 0.2769 | Train Accuracy: 91.12 || Test Loss: 0.4759 | Test Accuracy: 84.39\n",
            "Learning rate:  0.009794658977041062\n",
            "Epoch 36 / 100 | Train Loss: 0.2662 | Train Accuracy: 91.3 || Test Loss: 0.4912 | Test Accuracy: 84.2\n",
            "Learning rate:  0.009734441930170618\n",
            "Epoch 37 / 100 | Train Loss: 0.262 | Train Accuracy: 91.392 || Test Loss: 0.5012 | Test Accuracy: 83.68\n",
            "Learning rate:  0.009670472456151555\n",
            "Epoch 38 / 100 | Train Loss: 0.253 | Train Accuracy: 91.968 || Test Loss: 0.4736 | Test Accuracy: 84.34\n",
            "Learning rate:  0.009602775216433821\n",
            "Epoch 39 / 100 | Train Loss: 0.2454 | Train Accuracy: 92.162 || Test Loss: 0.4608 | Test Accuracy: 85.09\n",
            "Learning rate:  0.009531376309592006\n",
            "Epoch 40 / 100 | Train Loss: 0.2399 | Train Accuracy: 92.312 || Test Loss: 0.4765 | Test Accuracy: 84.56\n",
            "Learning rate:  0.009456303261263834\n",
            "Epoch 41 / 100 | Train Loss: 0.2345 | Train Accuracy: 92.566 || Test Loss: 0.4814 | Test Accuracy: 84.19\n",
            "Learning rate:  0.009377585013538522\n",
            "Epoch 42 / 100 | Train Loss: 0.2263 | Train Accuracy: 92.756 || Test Loss: 0.5372 | Test Accuracy: 83.22\n",
            "Learning rate:  0.00929525191379903\n",
            "Epoch 43 / 100 | Train Loss: 0.2191 | Train Accuracy: 92.99 || Test Loss: 0.481 | Test Accuracy: 84.47\n",
            "Learning rate:  0.0092093357030226\n",
            "Epoch 44 / 100 | Train Loss: 0.2088 | Train Accuracy: 93.394 || Test Loss: 0.4843 | Test Accuracy: 84.52\n",
            "Learning rate:  0.009119869503543966\n",
            "Epoch 45 / 100 | Train Loss: 0.2092 | Train Accuracy: 93.382 || Test Loss: 0.4602 | Test Accuracy: 85.1\n",
            "Learning rate:  0.009026887806286101\n",
            "Epoch 46 / 100 | Train Loss: 0.2052 | Train Accuracy: 93.558 || Test Loss: 0.4805 | Test Accuracy: 84.58\n",
            "Learning rate:  0.008930426457463283\n",
            "Epoch 47 / 100 | Train Loss: 0.1971 | Train Accuracy: 93.812 || Test Loss: 0.4371 | Test Accuracy: 86.01\n",
            "Learning rate:  0.008830522644761708\n",
            "Epoch 48 / 100 | Train Loss: 0.1938 | Train Accuracy: 94.03 || Test Loss: 0.4706 | Test Accuracy: 85.01\n",
            "Learning rate:  0.00872721488300293\n",
            "Epoch 49 / 100 | Train Loss: 0.1879 | Train Accuracy: 94.082 || Test Loss: 0.455 | Test Accuracy: 85.36\n",
            "Learning rate:  0.00862054299929566\n",
            "Epoch 50 / 100 | Train Loss: 0.1823 | Train Accuracy: 94.25 || Test Loss: 0.4344 | Test Accuracy: 86.06\n",
            "Learning rate:  0.008510548117681661\n",
            "Epoch 51 / 100 | Train Loss: 0.1788 | Train Accuracy: 94.5 || Test Loss: 0.4664 | Test Accuracy: 85.43\n",
            "Learning rate:  0.008397272643281639\n",
            "Epoch 52 / 100 | Train Loss: 0.1734 | Train Accuracy: 94.69 || Test Loss: 0.4531 | Test Accuracy: 85.64\n",
            "Learning rate:  0.008280760245947276\n",
            "Epoch 53 / 100 | Train Loss: 0.171 | Train Accuracy: 94.782 || Test Loss: 0.4389 | Test Accuracy: 86.1\n",
            "Learning rate:  0.008161055843425658\n",
            "Epoch 54 / 100 | Train Loss: 0.1719 | Train Accuracy: 94.73 || Test Loss: 0.4676 | Test Accuracy: 84.84\n",
            "Learning rate:  0.008038205584042635\n",
            "Epoch 55 / 100 | Train Loss: 0.1599 | Train Accuracy: 95.21 || Test Loss: 0.4365 | Test Accuracy: 86.31\n",
            "Learning rate:  0.007912256828911762\n",
            "Epoch 56 / 100 | Train Loss: 0.1625 | Train Accuracy: 95.12 || Test Loss: 0.4935 | Test Accuracy: 84.81\n",
            "Learning rate:  0.007783258133675683\n",
            "Epoch 57 / 100 | Train Loss: 0.1536 | Train Accuracy: 95.376 || Test Loss: 0.434 | Test Accuracy: 86.39\n",
            "Learning rate:  0.007651259229787016\n",
            "Epoch 58 / 100 | Train Loss: 0.1482 | Train Accuracy: 95.658 || Test Loss: 0.4656 | Test Accuracy: 85.13\n",
            "Learning rate:  0.007516311005335924\n",
            "Epoch 59 / 100 | Train Loss: 0.1431 | Train Accuracy: 95.804 || Test Loss: 0.5429 | Test Accuracy: 82.97\n",
            "Learning rate:  0.007378465485431788\n",
            "Epoch 60 / 100 | Train Loss: 0.1435 | Train Accuracy: 95.794 || Test Loss: 0.4419 | Test Accuracy: 86.16\n",
            "Learning rate:  0.007237775812146545\n",
            "Epoch 61 / 100 | Train Loss: 0.1402 | Train Accuracy: 95.846 || Test Loss: 0.4629 | Test Accuracy: 85.42\n",
            "Learning rate:  0.007094296224027392\n",
            "Epoch 62 / 100 | Train Loss: 0.1373 | Train Accuracy: 95.98 || Test Loss: 0.4433 | Test Accuracy: 86.19\n",
            "Learning rate:  0.006948082035186809\n",
            "Epoch 63 / 100 | Train Loss: 0.1329 | Train Accuracy: 96.156 || Test Loss: 0.5136 | Test Accuracy: 84.1\n",
            "Learning rate:  0.006799189613977909\n",
            "Epoch 64 / 100 | Train Loss: 0.1288 | Train Accuracy: 96.318 || Test Loss: 0.5122 | Test Accuracy: 83.85\n",
            "Learning rate:  0.006647676361263365\n",
            "Epoch 65 / 100 | Train Loss: 0.1215 | Train Accuracy: 96.59 || Test Loss: 0.4712 | Test Accuracy: 85.37\n",
            "Learning rate:  0.006493600688286286\n",
            "Epoch 66 / 100 | Train Loss: 0.123 | Train Accuracy: 96.562 || Test Loss: 0.4552 | Test Accuracy: 85.71\n",
            "Learning rate:  0.006337021994151568\n",
            "Epoch 67 / 100 | Train Loss: 0.1114 | Train Accuracy: 96.882 || Test Loss: 0.4447 | Test Accuracy: 86.24\n",
            "Learning rate:  0.006178000642926411\n",
            "Epoch 68 / 100 | Train Loss: 0.1112 | Train Accuracy: 96.944 || Test Loss: 0.4821 | Test Accuracy: 85.1\n",
            "Learning rate:  0.006016597940368823\n",
            "Epoch 69 / 100 | Train Loss: 0.1066 | Train Accuracy: 97.052 || Test Loss: 0.4518 | Test Accuracy: 86.33\n",
            "Learning rate:  0.005852876110293081\n",
            "Epoch 70 / 100 | Train Loss: 0.1045 | Train Accuracy: 97.22 || Test Loss: 0.4518 | Test Accuracy: 86.04\n",
            "Learning rate:  0.005686898270581267\n",
            "Epoch 71 / 100 | Train Loss: 0.1019 | Train Accuracy: 97.286 || Test Loss: 0.4519 | Test Accuracy: 86.13\n",
            "Learning rate:  0.005518728408850123\n",
            "Epoch 72 / 100 | Train Loss: 0.0963 | Train Accuracy: 97.458 || Test Loss: 0.461 | Test Accuracy: 85.84\n",
            "Learning rate:  0.005348431357782601\n",
            "Epoch 73 / 100 | Train Loss: 0.0937 | Train Accuracy: 97.59 || Test Loss: 0.4415 | Test Accuracy: 86.6\n",
            "Learning rate:  0.005176072770133648\n",
            "Epoch 74 / 100 | Train Loss: 0.0863 | Train Accuracy: 97.84 || Test Loss: 0.4153 | Test Accuracy: 87.35\n",
            "Learning rate:  0.005001719093419792\n",
            "Epoch 75 / 100 | Train Loss: 0.0859 | Train Accuracy: 97.836 || Test Loss: 0.4104 | Test Accuracy: 87.37\n",
            "Learning rate:  0.0048254375443023845\n",
            "Epoch 76 / 100 | Train Loss: 0.0826 | Train Accuracy: 97.996 || Test Loss: 0.4381 | Test Accuracy: 86.76\n",
            "Learning rate:  0.004647296082674278\n",
            "Epoch 77 / 100 | Train Loss: 0.0779 | Train Accuracy: 98.136 || Test Loss: 0.4834 | Test Accuracy: 85.61\n",
            "Learning rate:  0.004467363385460013\n",
            "Epoch 78 / 100 | Train Loss: 0.0737 | Train Accuracy: 98.296 || Test Loss: 0.4513 | Test Accuracy: 86.58\n",
            "Learning rate:  0.0042857088201395405\n",
            "Epoch 79 / 100 | Train Loss: 0.0695 | Train Accuracy: 98.366 || Test Loss: 0.4188 | Test Accuracy: 86.93\n",
            "Learning rate:  0.004102402418005741\n",
            "Epoch 80 / 100 | Train Loss: 0.0677 | Train Accuracy: 98.496 || Test Loss: 0.4408 | Test Accuracy: 86.66\n",
            "Learning rate:  0.003917514847166037\n",
            "Epoch 81 / 100 | Train Loss: 0.0598 | Train Accuracy: 98.79 || Test Loss: 0.4372 | Test Accuracy: 86.65\n",
            "Learning rate:  0.003731117385298483\n",
            "Epoch 82 / 100 | Train Loss: 0.0601 | Train Accuracy: 98.726 || Test Loss: 0.4148 | Test Accuracy: 87.51\n",
            "Learning rate:  0.003543281892172863\n",
            "Epoch 83 / 100 | Train Loss: 0.0566 | Train Accuracy: 98.826 || Test Loss: 0.4243 | Test Accuracy: 87.19\n",
            "Learning rate:  0.003354080781947394\n",
            "Epoch 84 / 100 | Train Loss: 0.0514 | Train Accuracy: 99.022 || Test Loss: 0.4241 | Test Accuracy: 86.97\n",
            "Learning rate:  0.0031635869952516714\n",
            "Epoch 85 / 100 | Train Loss: 0.0494 | Train Accuracy: 99.046 || Test Loss: 0.4107 | Test Accuracy: 87.48\n",
            "Learning rate:  0.0029718739710666835\n",
            "Epoch 86 / 100 | Train Loss: 0.0475 | Train Accuracy: 99.11 || Test Loss: 0.4057 | Test Accuracy: 87.54\n",
            "Learning rate:  0.00277901561841268\n",
            "Epoch 87 / 100 | Train Loss: 0.0433 | Train Accuracy: 99.228 || Test Loss: 0.4022 | Test Accuracy: 87.74\n",
            "Learning rate:  0.002585086287855831\n",
            "Epoch 88 / 100 | Train Loss: 0.0394 | Train Accuracy: 99.358 || Test Loss: 0.3872 | Test Accuracy: 87.95\n",
            "Learning rate:  0.0023901607428446848\n",
            "Epoch 89 / 100 | Train Loss: 0.0375 | Train Accuracy: 99.436 || Test Loss: 0.3902 | Test Accuracy: 88.01\n",
            "Learning rate:  0.002194314130887415\n",
            "Epoch 90 / 100 | Train Loss: 0.0357 | Train Accuracy: 99.5 || Test Loss: 0.392 | Test Accuracy: 88.17\n",
            "Learning rate:  0.001997621954581048\n",
            "Epoch 91 / 100 | Train Loss: 0.0339 | Train Accuracy: 99.492 || Test Loss: 0.3963 | Test Accuracy: 88.16\n",
            "Learning rate:  0.0018001600425037528\n",
            "Epoch 92 / 100 | Train Loss: 0.0325 | Train Accuracy: 99.536 || Test Loss: 0.3948 | Test Accuracy: 88.21\n",
            "Learning rate:  0.0016020045199814932\n",
            "Epoch 93 / 100 | Train Loss: 0.0298 | Train Accuracy: 99.61 || Test Loss: 0.4009 | Test Accuracy: 88.08\n",
            "Learning rate:  0.0014032317797402687\n",
            "Epoch 94 / 100 | Train Loss: 0.0287 | Train Accuracy: 99.628 || Test Loss: 0.377 | Test Accuracy: 88.61\n",
            "Learning rate:  0.0012039184524552495\n",
            "Epoch 95 / 100 | Train Loss: 0.027 | Train Accuracy: 99.704 || Test Loss: 0.3868 | Test Accuracy: 88.21\n",
            "Learning rate:  0.0010041413772082116\n",
            "Epoch 96 / 100 | Train Loss: 0.0257 | Train Accuracy: 99.728 || Test Loss: 0.3833 | Test Accuracy: 88.59\n",
            "Learning rate:  0.0008039775718645887\n",
            "Epoch 97 / 100 | Train Loss: 0.0243 | Train Accuracy: 99.722 || Test Loss: 0.3812 | Test Accuracy: 88.56\n",
            "Learning rate:  0.0006035042033816349\n",
            "Epoch 98 / 100 | Train Loss: 0.0242 | Train Accuracy: 99.732 || Test Loss: 0.3808 | Test Accuracy: 88.55\n",
            "Learning rate:  0.000402798558059088\n",
            "Epoch 99 / 100 | Train Loss: 0.0229 | Train Accuracy: 99.784 || Test Loss: 0.3833 | Test Accuracy: 88.46\n",
            "Learning rate:  0.00020193801174382177\n",
            "Epoch 100 / 100 | Train Loss: 0.0229 | Train Accuracy: 99.746 || Test Loss: 0.3865 | Test Accuracy: 88.41\n",
            "Learning rate:  1.0000000000006265e-06\n"
          ]
        }
      ]
    },
    {
      "cell_type": "markdown",
      "metadata": {
        "id": "QASbvo6oK0YQ"
      },
      "source": [
        "####Plotting the Training loss, Training error and Learning rate as a function of the number of weight updates"
      ]
    },
    {
      "cell_type": "code",
      "metadata": {
        "id": "A2t15m4n1W9G",
        "colab": {
          "base_uri": "https://localhost:8080/",
          "height": 970
        },
        "outputId": "08644189-31e5-4608-a576-4b23a0be87cf"
      },
      "source": [
        "plt.figure(figsize=(5,3), dpi=100)\n",
        "plt.plot(n_wu, wu_loss, 'b', label='Training Loss')\n",
        "plt.title('Loss Curve')\n",
        "plt.xlabel('Number of weight updates')\n",
        "plt.ylabel('Loss')\n",
        "plt.legend()\n",
        "\n",
        "plt.figure(figsize=(5,3), dpi=100)\n",
        "plt.plot(n_wu, wu_err, 'b', label='Training Error')\n",
        "plt.title('Error Curve')\n",
        "plt.xlabel('Number of weight updates')\n",
        "plt.ylabel('Error')\n",
        "plt.legend()\n",
        "\n",
        "plt.figure(figsize=(5,3), dpi=100)\n",
        "plt.plot(n_wu, wu_lr, 'b', label='Training Accuracy')\n",
        "plt.title('Learning Rate Curve')\n",
        "plt.xlabel('Number of weight updates')\n",
        "plt.ylabel('Learning Rate')\n",
        "plt.legend()"
      ],
      "execution_count": null,
      "outputs": [
        {
          "output_type": "execute_result",
          "data": {
            "text/plain": [
              "<matplotlib.legend.Legend at 0x7f29b264a950>"
            ]
          },
          "metadata": {},
          "execution_count": 10
        },
        {
          "output_type": "display_data",
          "data": {
            "image/png": "[encoded data removed]",
            "text/plain": [
              "<Figure size 500x300 with 1 Axes>"
            ]
          },
          "metadata": {
            "needs_background": "light"
          }
        },
        {
          "output_type": "display_data",
          "data": {
            "image/png": "[encoded data removed]",
            "text/plain": [
              "<Figure size 500x300 with 1 Axes>"
            ]
          },
          "metadata": {
            "needs_background": "light"
          }
        },
        {
          "output_type": "display_data",
          "data": {
            "image/png": "[encoded data removed]",
            "text/plain": [
              "<Figure size 500x300 with 1 Axes>"
            ]
          },
          "metadata": {
            "needs_background": "light"
          }
        }
      ]
    },
    {
      "cell_type": "markdown",
      "metadata": {
        "id": "7KdlKss_LFKt"
      },
      "source": [
        "#### Plotting the Training & Validation Loss and Training & Validation accuracy as a function of the number of epochs"
      ]
    },
    {
      "cell_type": "code",
      "metadata": {
        "id": "Kg8mJSSyhe_n",
        "colab": {
          "base_uri": "https://localhost:8080/",
          "height": 658
        },
        "outputId": "50c4581f-5669-4ee5-cfef-0a2dcaf04e07"
      },
      "source": [
        "plt.figure(figsize=(5,3), dpi=100)\n",
        "plt.plot(np.arange(epochs), train_loss_tot, 'b', label='Training Loss')\n",
        "plt.title('Loss curve')\n",
        "plt.xlabel('Epochs')\n",
        "plt.ylabel('Loss')\n",
        "plt.plot(np.arange(epochs), test_loss_tot, 'g', label='Validation Loss')\n",
        "plt.xlabel('Epochs')\n",
        "plt.ylabel('Loss')\n",
        "plt.legend()\n",
        "\n",
        "plt.figure(figsize=(5,3), dpi=100)\n",
        "plt.plot(np.arange(epochs), train_acc_tot, 'b', label='Training Accuracy')\n",
        "plt.title('Accuracy curve')\n",
        "plt.xlabel('Epochs')\n",
        "plt.ylabel('Accuracy')\n",
        "plt.legend()\n",
        "plt.plot(np.arange(epochs), test_acc_tot, 'g', label='Validation Accuracy')\n",
        "plt.xlabel('Epochs')\n",
        "plt.ylabel('Accuracy')\n",
        "plt.legend()\n"
      ],
      "execution_count": null,
      "outputs": [
        {
          "output_type": "execute_result",
          "data": {
            "text/plain": [
              "<matplotlib.legend.Legend at 0x7f29b23c6e50>"
            ]
          },
          "metadata": {},
          "execution_count": 11
        },
        {
          "output_type": "display_data",
          "data": {
            "image/png": "[encoded data removed]",
            "text/plain": [
              "<Figure size 500x300 with 1 Axes>"
            ]
          },
          "metadata": {
            "needs_background": "light"
          }
        },
        {
          "output_type": "display_data",
          "data": {
            "image/png": "[encoded data removed]",
            "text/plain": [
              "<Figure size 500x300 with 1 Axes>"
            ]
          },
          "metadata": {
            "needs_background": "light"
          }
        }
      ]
    },
    {
      "cell_type": "markdown",
      "metadata": {
        "id": "_edRc8T9fRF0"
      },
      "source": [
        "### Part (d)"
      ]
    },
    {
      "cell_type": "markdown",
      "metadata": {
        "id": "vTpsU6zIfXz-"
      },
      "source": [
        "####(i) Training with ηmax and ρ = 0.9"
      ]
    },
    {
      "cell_type": "code",
      "metadata": {
        "id": "A1B_fh_8TVH3",
        "colab": {
          "base_uri": "https://localhost:8080/"
        },
        "outputId": "9cefec05-fdcf-4807-e77c-6196bcb0e038"
      },
      "source": [
        "#Defining the hyperparameters\n",
        "model = allcnn_t().to(device)\n",
        "epochs = 50\n",
        "T = epochs * 391\n",
        "T_0 = T/5\n",
        "max_lr = optim_lr/10\n",
        "start_lr = 1e-4\n",
        "criterion = nn.CrossEntropyLoss()\n",
        "optimizer = optim.SGD(model.parameters(), lr=startlr, momentum=0.9, weight_decay=1e-3, nesterov=True)\n",
        "\n",
        "train_loss_tot = []\n",
        "train_acc_tot = []\n",
        "test_loss_tot = []\n",
        "test_acc_tot = []\n",
        "train_loss_batch = []\n",
        "all_lr = []\n",
        "n_wu = []\n",
        "\n",
        "model = model.to(device)\n",
        "total_step = len(trainloader)\n",
        "overall_step = 0\n",
        "t=0\n",
        "for epoch in range(epochs):\n",
        "    count1 = 0\n",
        "    count2 = 0\n",
        "    correct = 0\n",
        "    total = 0\n",
        "    train_loss=0\n",
        "    test_loss=0\n",
        "    model.train()\n",
        "\n",
        "    for i, (images, labels) in enumerate(trainloader):\n",
        "        t+=1\n",
        "        images = images.to(device)\n",
        "        labels = labels.to(device)\n",
        "        outputs = model(images)\n",
        "        loss = criterion(outputs, labels)\n",
        "        optimizer.zero_grad()\n",
        "        loss.backward()\n",
        "        optimizer.step()\n",
        "        if(t < T_0):\n",
        "          optimizer.param_groups[0]['lr'] = 1e-4 + (t / T_0) * max_lr\n",
        "        else:\n",
        "          optimizer.param_groups[0]['lr'] = max_lr * np.cos((np.pi/2) * ((t-T_0)/(T-T_0))) + 1e-6\n",
        "        train_loss += loss.item()\n",
        "        _, predicted = outputs.max(1)\n",
        "        total += labels.size(0)\n",
        "        correct += predicted.eq(labels).sum().item()\n",
        "        count1+=1\n",
        "\n",
        "    all_lr.append(optimizer.param_groups[0]['lr'])\n",
        "    n_wu.append(t)\n",
        "    train_loss = train_loss/count1\n",
        "    train_acc = 100*correct/total\n",
        "    train_loss_tot = np.append(train_loss_tot, train_loss)\n",
        "    train_acc_tot = np.append(train_acc_tot, train_acc)\n",
        "\n",
        "    model.eval()\n",
        "    with torch.no_grad():\n",
        "        correct = 0\n",
        "        total = 0\n",
        "        for i, (images, labels) in enumerate(testloader):\n",
        "            images = images.to(device)\n",
        "            labels = labels.to(device)\n",
        "            outputs = model(images)\n",
        "            loss = criterion(outputs, labels)\n",
        "            _, predicted = torch.max(outputs.data, 1)\n",
        "            total += labels.size(0)\n",
        "            correct += (predicted == labels).sum().item()\n",
        "            test_loss += loss.item()\n",
        "            count2+=1\n",
        "\n",
        "    test_loss = test_loss/count2\n",
        "    test_acc = 100*correct/total\n",
        "    test_loss_tot = np.append(test_loss_tot, test_loss)\n",
        "    test_acc_tot = np.append(test_acc_tot, test_acc)\n",
        "    print(\"Epoch (\",epoch+1,\"/\",epochs,\") | Train Loss:\", round(train_loss, 4), \"| Train Accuracy:\", train_acc, \"|| Test Loss:\", round(test_loss,4), \"| Test Accuracy:\", test_acc)\n"
      ],
      "execution_count": null,
      "outputs": [
        {
          "output_type": "stream",
          "name": "stdout",
          "text": [
            "Num parameters:  1667166\n",
            "Epoch ( 1 / 50 ) | Train Loss: 1.9812 | Train Accuracy: 28.164 || Test Loss: 2.1957 | Test Accuracy: 23.95\n",
            "Epoch ( 2 / 50 ) | Train Loss: 1.6335 | Train Accuracy: 43.356 || Test Loss: 1.7652 | Test Accuracy: 37.87\n",
            "Epoch ( 3 / 50 ) | Train Loss: 1.4019 | Train Accuracy: 52.286 || Test Loss: 1.6838 | Test Accuracy: 42.55\n",
            "Epoch ( 4 / 50 ) | Train Loss: 1.217 | Train Accuracy: 58.596 || Test Loss: 1.3783 | Test Accuracy: 50.91\n",
            "Epoch ( 5 / 50 ) | Train Loss: 1.0899 | Train Accuracy: 62.544 || Test Loss: 1.1995 | Test Accuracy: 57.91\n",
            "Epoch ( 6 / 50 ) | Train Loss: 0.9837 | Train Accuracy: 66.348 || Test Loss: 1.1367 | Test Accuracy: 60.65\n",
            "Epoch ( 7 / 50 ) | Train Loss: 0.9007 | Train Accuracy: 69.188 || Test Loss: 0.9687 | Test Accuracy: 66.69\n",
            "Epoch ( 8 / 50 ) | Train Loss: 0.825 | Train Accuracy: 71.95 || Test Loss: 0.958 | Test Accuracy: 67.43\n",
            "Epoch ( 9 / 50 ) | Train Loss: 0.7614 | Train Accuracy: 74.19 || Test Loss: 0.7931 | Test Accuracy: 73.35\n",
            "Epoch ( 10 / 50 ) | Train Loss: 0.7177 | Train Accuracy: 75.642 || Test Loss: 0.8717 | Test Accuracy: 70.06\n",
            "Epoch ( 11 / 50 ) | Train Loss: 0.6657 | Train Accuracy: 77.426 || Test Loss: 0.6981 | Test Accuracy: 76.33\n",
            "Epoch ( 12 / 50 ) | Train Loss: 0.6268 | Train Accuracy: 78.706 || Test Loss: 0.7505 | Test Accuracy: 74.68\n",
            "Epoch ( 13 / 50 ) | Train Loss: 0.5905 | Train Accuracy: 79.852 || Test Loss: 0.7429 | Test Accuracy: 74.53\n",
            "Epoch ( 14 / 50 ) | Train Loss: 0.5567 | Train Accuracy: 81.184 || Test Loss: 0.6384 | Test Accuracy: 77.66\n",
            "Epoch ( 15 / 50 ) | Train Loss: 0.5226 | Train Accuracy: 82.372 || Test Loss: 0.7483 | Test Accuracy: 75.06\n",
            "Epoch ( 16 / 50 ) | Train Loss: 0.5002 | Train Accuracy: 83.19 || Test Loss: 0.6624 | Test Accuracy: 77.63\n",
            "Epoch ( 17 / 50 ) | Train Loss: 0.4698 | Train Accuracy: 84.238 || Test Loss: 0.6408 | Test Accuracy: 78.5\n",
            "Epoch ( 18 / 50 ) | Train Loss: 0.4479 | Train Accuracy: 85.072 || Test Loss: 0.5767 | Test Accuracy: 80.54\n",
            "Epoch ( 19 / 50 ) | Train Loss: 0.4286 | Train Accuracy: 85.666 || Test Loss: 0.5767 | Test Accuracy: 80.24\n",
            "Epoch ( 20 / 50 ) | Train Loss: 0.4104 | Train Accuracy: 86.366 || Test Loss: 0.5808 | Test Accuracy: 80.71\n",
            "Epoch ( 21 / 50 ) | Train Loss: 0.3909 | Train Accuracy: 86.908 || Test Loss: 0.5842 | Test Accuracy: 80.36\n",
            "Epoch ( 22 / 50 ) | Train Loss: 0.3747 | Train Accuracy: 87.462 || Test Loss: 0.5704 | Test Accuracy: 80.87\n",
            "Epoch ( 23 / 50 ) | Train Loss: 0.3537 | Train Accuracy: 88.174 || Test Loss: 0.5727 | Test Accuracy: 81.25\n",
            "Epoch ( 24 / 50 ) | Train Loss: 0.3433 | Train Accuracy: 88.676 || Test Loss: 0.5001 | Test Accuracy: 83.2\n",
            "Epoch ( 25 / 50 ) | Train Loss: 0.3268 | Train Accuracy: 89.336 || Test Loss: 0.5162 | Test Accuracy: 82.9\n",
            "Epoch ( 26 / 50 ) | Train Loss: 0.3112 | Train Accuracy: 89.928 || Test Loss: 0.5337 | Test Accuracy: 82.54\n",
            "Epoch ( 27 / 50 ) | Train Loss: 0.2919 | Train Accuracy: 90.6 || Test Loss: 0.4926 | Test Accuracy: 83.71\n",
            "Epoch ( 28 / 50 ) | Train Loss: 0.2813 | Train Accuracy: 91.0 || Test Loss: 0.4735 | Test Accuracy: 84.11\n",
            "Epoch ( 29 / 50 ) | Train Loss: 0.2692 | Train Accuracy: 91.318 || Test Loss: 0.4623 | Test Accuracy: 84.56\n",
            "Epoch ( 30 / 50 ) | Train Loss: 0.2562 | Train Accuracy: 91.896 || Test Loss: 0.4767 | Test Accuracy: 84.48\n",
            "Epoch ( 31 / 50 ) | Train Loss: 0.2391 | Train Accuracy: 92.428 || Test Loss: 0.4897 | Test Accuracy: 83.99\n",
            "Epoch ( 32 / 50 ) | Train Loss: 0.224 | Train Accuracy: 92.922 || Test Loss: 0.4388 | Test Accuracy: 85.49\n",
            "Epoch ( 33 / 50 ) | Train Loss: 0.2165 | Train Accuracy: 93.22 || Test Loss: 0.4824 | Test Accuracy: 84.25\n",
            "Epoch ( 34 / 50 ) | Train Loss: 0.2016 | Train Accuracy: 93.798 || Test Loss: 0.494 | Test Accuracy: 84.19\n",
            "Epoch ( 35 / 50 ) | Train Loss: 0.198 | Train Accuracy: 93.948 || Test Loss: 0.4406 | Test Accuracy: 85.45\n",
            "Epoch ( 36 / 50 ) | Train Loss: 0.1798 | Train Accuracy: 94.568 || Test Loss: 0.4244 | Test Accuracy: 86.1\n",
            "Epoch ( 37 / 50 ) | Train Loss: 0.1707 | Train Accuracy: 94.912 || Test Loss: 0.4378 | Test Accuracy: 85.72\n",
            "Epoch ( 38 / 50 ) | Train Loss: 0.1583 | Train Accuracy: 95.33 || Test Loss: 0.4675 | Test Accuracy: 85.14\n",
            "Epoch ( 39 / 50 ) | Train Loss: 0.1481 | Train Accuracy: 95.692 || Test Loss: 0.4583 | Test Accuracy: 84.82\n",
            "Epoch ( 40 / 50 ) | Train Loss: 0.1315 | Train Accuracy: 96.442 || Test Loss: 0.4964 | Test Accuracy: 84.31\n",
            "Epoch ( 41 / 50 ) | Train Loss: 0.1223 | Train Accuracy: 96.644 || Test Loss: 0.4271 | Test Accuracy: 86.44\n",
            "Epoch ( 42 / 50 ) | Train Loss: 0.1128 | Train Accuracy: 97.01 || Test Loss: 0.4491 | Test Accuracy: 85.64\n",
            "Epoch ( 43 / 50 ) | Train Loss: 0.1018 | Train Accuracy: 97.484 || Test Loss: 0.4298 | Test Accuracy: 86.48\n",
            "Epoch ( 44 / 50 ) | Train Loss: 0.0935 | Train Accuracy: 97.77 || Test Loss: 0.4309 | Test Accuracy: 86.62\n",
            "Epoch ( 45 / 50 ) | Train Loss: 0.0839 | Train Accuracy: 98.054 || Test Loss: 0.4289 | Test Accuracy: 86.64\n",
            "Epoch ( 46 / 50 ) | Train Loss: 0.0776 | Train Accuracy: 98.288 || Test Loss: 0.4174 | Test Accuracy: 87.08\n",
            "Epoch ( 47 / 50 ) | Train Loss: 0.0712 | Train Accuracy: 98.448 || Test Loss: 0.4149 | Test Accuracy: 87.27\n",
            "Epoch ( 48 / 50 ) | Train Loss: 0.066 | Train Accuracy: 98.726 || Test Loss: 0.4089 | Test Accuracy: 87.36\n",
            "Epoch ( 49 / 50 ) | Train Loss: 0.0603 | Train Accuracy: 98.872 || Test Loss: 0.411 | Test Accuracy: 87.21\n",
            "Epoch ( 50 / 50 ) | Train Loss: 0.0576 | Train Accuracy: 98.992 || Test Loss: 0.4024 | Test Accuracy: 87.44\n"
          ]
        }
      ]
    },
    {
      "cell_type": "markdown",
      "metadata": {
        "id": "ahgdfzAjMJMl"
      },
      "source": [
        "Validation error = 12.56%"
      ]
    },
    {
      "cell_type": "markdown",
      "metadata": {
        "id": "yJJID2_BnYOl"
      },
      "source": [
        "####(ii) Training with ηmax ← 5ηmax and ρ = 0.5"
      ]
    },
    {
      "cell_type": "code",
      "metadata": {
        "id": "Up8hyt6end-4",
        "colab": {
          "base_uri": "https://localhost:8080/"
        },
        "outputId": "c177dc45-c021-4710-aee7-74d5660ffa2e"
      },
      "source": [
        "model = allcnn_t().to(device)\n",
        "epochs = 50\n",
        "T = epochs * 391\n",
        "T_0 = T/5\n",
        "max_lr = optim_lr/10\n",
        "max_lr *= 5\n",
        "start_lr = 1e-4\n",
        "criterion = nn.CrossEntropyLoss()\n",
        "optimizer = optim.SGD(model.parameters(), lr=start_lr, momentum=0.5, weight_decay=1e-3, nesterov=True)\n",
        "\n",
        "train_loss_tot = []\n",
        "train_acc_tot = []\n",
        "test_loss_tot = []\n",
        "test_acc_tot = []\n",
        "train_loss_batch = []\n",
        "all_lr = []\n",
        "n_wu = []\n",
        "\n",
        "model = model.to(device)\n",
        "total_step = len(trainloader)\n",
        "overall_step = 0\n",
        "t=0\n",
        "for epoch in range(epochs):\n",
        "    count1 = 0\n",
        "    count2 = 0\n",
        "    correct = 0\n",
        "    total = 0\n",
        "    train_loss=0\n",
        "    test_loss=0\n",
        "    model.train()\n",
        "\n",
        "    for i, (images, labels) in enumerate(trainloader):\n",
        "        t+=1\n",
        "        images = images.to(device)\n",
        "        labels = labels.to(device)\n",
        "        outputs = model(images)\n",
        "        loss = criterion(outputs, labels)\n",
        "        optimizer.zero_grad()\n",
        "        loss.backward()\n",
        "        optimizer.step()\n",
        "        if(t < T_0):\n",
        "          optimizer.param_groups[0]['lr'] = 1e-4 + (t / T_0) * max_lr\n",
        "        else:\n",
        "          optimizer.param_groups[0]['lr'] = max_lr * np.cos((np.pi/2) * ((t-T_0)/(T-T_0))) + 1e-6\n",
        "        train_loss += loss.item()\n",
        "        _, predicted = outputs.max(1)\n",
        "        total += labels.size(0)\n",
        "        correct += predicted.eq(labels).sum().item()\n",
        "        count1+=1\n",
        "\n",
        "    all_lr.append(optimizer.param_groups[0]['lr'])\n",
        "    n_wu.append(t)\n",
        "    train_loss = train_loss/count1\n",
        "    train_acc = 100*correct/total\n",
        "    train_loss_tot = np.append(train_loss_tot, train_loss)\n",
        "    train_acc_tot = np.append(train_acc_tot, train_acc)\n",
        "\n",
        "    model.eval()\n",
        "    with torch.no_grad():\n",
        "        correct = 0\n",
        "        total = 0\n",
        "        for i, (images, labels) in enumerate(testloader):\n",
        "            images = images.to(device)\n",
        "            labels = labels.to(device)\n",
        "            outputs = model(images)\n",
        "            loss = criterion(outputs, labels)\n",
        "            _, predicted = torch.max(outputs.data, 1)\n",
        "            total += labels.size(0)\n",
        "            correct += (predicted == labels).sum().item()\n",
        "            test_loss += loss.item()\n",
        "            count2+=1\n",
        "\n",
        "    test_loss = test_loss/count2\n",
        "    test_acc = 100*correct/total\n",
        "    test_loss_tot = np.append(test_loss_tot, test_loss)\n",
        "    test_acc_tot = np.append(test_acc_tot, test_acc)\n",
        "    print(\"Epoch (\",epoch+1,\"/\",epochs,\") | Train Loss:\", round(train_loss, 4), \"| Train Accuracy:\", train_acc, \"|| Test Loss:\", round(test_loss,4), \"| Test Accuracy:\", test_acc)\n"
      ],
      "execution_count": null,
      "outputs": [
        {
          "output_type": "stream",
          "name": "stdout",
          "text": [
            "Num parameters:  1667166\n",
            "Epoch ( 1 / 50 ) | Train Loss: 2.0237 | Train Accuracy: 26.59 || Test Loss: 2.1866 | Test Accuracy: 23.22\n",
            "Epoch ( 2 / 50 ) | Train Loss: 1.6449 | Train Accuracy: 43.02 || Test Loss: 1.7759 | Test Accuracy: 36.3\n",
            "Epoch ( 3 / 50 ) | Train Loss: 1.4243 | Train Accuracy: 51.114 || Test Loss: 1.5332 | Test Accuracy: 45.53\n",
            "Epoch ( 4 / 50 ) | Train Loss: 1.2442 | Train Accuracy: 57.552 || Test Loss: 1.2541 | Test Accuracy: 55.71\n",
            "Epoch ( 5 / 50 ) | Train Loss: 1.1105 | Train Accuracy: 61.918 || Test Loss: 1.1463 | Test Accuracy: 59.54\n",
            "Epoch ( 6 / 50 ) | Train Loss: 1.0152 | Train Accuracy: 64.862 || Test Loss: 1.0759 | Test Accuracy: 62.33\n",
            "Epoch ( 7 / 50 ) | Train Loss: 0.9255 | Train Accuracy: 68.302 || Test Loss: 1.047 | Test Accuracy: 64.65\n",
            "Epoch ( 8 / 50 ) | Train Loss: 0.8482 | Train Accuracy: 71.13 || Test Loss: 0.8547 | Test Accuracy: 70.5\n",
            "Epoch ( 9 / 50 ) | Train Loss: 0.7865 | Train Accuracy: 73.07 || Test Loss: 1.0394 | Test Accuracy: 65.37\n",
            "Epoch ( 10 / 50 ) | Train Loss: 0.7392 | Train Accuracy: 75.0 || Test Loss: 0.7644 | Test Accuracy: 74.23\n",
            "Epoch ( 11 / 50 ) | Train Loss: 0.687 | Train Accuracy: 76.626 || Test Loss: 0.7549 | Test Accuracy: 74.93\n",
            "Epoch ( 12 / 50 ) | Train Loss: 0.6378 | Train Accuracy: 78.512 || Test Loss: 0.7526 | Test Accuracy: 74.96\n",
            "Epoch ( 13 / 50 ) | Train Loss: 0.6049 | Train Accuracy: 79.436 || Test Loss: 0.7036 | Test Accuracy: 76.38\n",
            "Epoch ( 14 / 50 ) | Train Loss: 0.5702 | Train Accuracy: 80.73 || Test Loss: 0.7203 | Test Accuracy: 75.94\n",
            "Epoch ( 15 / 50 ) | Train Loss: 0.5386 | Train Accuracy: 81.932 || Test Loss: 0.6345 | Test Accuracy: 78.38\n",
            "Epoch ( 16 / 50 ) | Train Loss: 0.5089 | Train Accuracy: 82.982 || Test Loss: 0.6147 | Test Accuracy: 79.13\n",
            "Epoch ( 17 / 50 ) | Train Loss: 0.4812 | Train Accuracy: 83.928 || Test Loss: 0.604 | Test Accuracy: 79.55\n",
            "Epoch ( 18 / 50 ) | Train Loss: 0.4589 | Train Accuracy: 84.648 || Test Loss: 0.5866 | Test Accuracy: 80.21\n",
            "Epoch ( 19 / 50 ) | Train Loss: 0.434 | Train Accuracy: 85.588 || Test Loss: 0.6066 | Test Accuracy: 79.55\n",
            "Epoch ( 20 / 50 ) | Train Loss: 0.4185 | Train Accuracy: 86.088 || Test Loss: 0.6328 | Test Accuracy: 78.84\n",
            "Epoch ( 21 / 50 ) | Train Loss: 0.3994 | Train Accuracy: 86.726 || Test Loss: 0.5698 | Test Accuracy: 80.79\n",
            "Epoch ( 22 / 50 ) | Train Loss: 0.3774 | Train Accuracy: 87.3 || Test Loss: 0.5689 | Test Accuracy: 80.84\n",
            "Epoch ( 23 / 50 ) | Train Loss: 0.3604 | Train Accuracy: 88.084 || Test Loss: 0.5429 | Test Accuracy: 81.81\n",
            "Epoch ( 24 / 50 ) | Train Loss: 0.3415 | Train Accuracy: 88.776 || Test Loss: 0.5114 | Test Accuracy: 82.95\n",
            "Epoch ( 25 / 50 ) | Train Loss: 0.323 | Train Accuracy: 89.304 || Test Loss: 0.5583 | Test Accuracy: 82.17\n",
            "Epoch ( 26 / 50 ) | Train Loss: 0.3122 | Train Accuracy: 89.768 || Test Loss: 0.4961 | Test Accuracy: 83.6\n",
            "Epoch ( 27 / 50 ) | Train Loss: 0.2949 | Train Accuracy: 90.444 || Test Loss: 0.4933 | Test Accuracy: 83.67\n",
            "Epoch ( 28 / 50 ) | Train Loss: 0.2845 | Train Accuracy: 90.826 || Test Loss: 0.5055 | Test Accuracy: 83.18\n",
            "Epoch ( 29 / 50 ) | Train Loss: 0.2658 | Train Accuracy: 91.424 || Test Loss: 0.4544 | Test Accuracy: 85.22\n",
            "Epoch ( 30 / 50 ) | Train Loss: 0.2542 | Train Accuracy: 91.842 || Test Loss: 0.473 | Test Accuracy: 84.7\n",
            "Epoch ( 31 / 50 ) | Train Loss: 0.2406 | Train Accuracy: 92.436 || Test Loss: 0.482 | Test Accuracy: 84.12\n",
            "Epoch ( 32 / 50 ) | Train Loss: 0.2314 | Train Accuracy: 92.602 || Test Loss: 0.4753 | Test Accuracy: 84.36\n",
            "Epoch ( 33 / 50 ) | Train Loss: 0.2189 | Train Accuracy: 93.222 || Test Loss: 0.4398 | Test Accuracy: 85.67\n",
            "Epoch ( 34 / 50 ) | Train Loss: 0.2021 | Train Accuracy: 93.764 || Test Loss: 0.4759 | Test Accuracy: 84.46\n",
            "Epoch ( 35 / 50 ) | Train Loss: 0.1933 | Train Accuracy: 94.054 || Test Loss: 0.4958 | Test Accuracy: 83.9\n",
            "Epoch ( 36 / 50 ) | Train Loss: 0.1817 | Train Accuracy: 94.584 || Test Loss: 0.509 | Test Accuracy: 84.1\n",
            "Epoch ( 37 / 50 ) | Train Loss: 0.1688 | Train Accuracy: 95.014 || Test Loss: 0.4354 | Test Accuracy: 85.94\n",
            "Epoch ( 38 / 50 ) | Train Loss: 0.1564 | Train Accuracy: 95.384 || Test Loss: 0.4603 | Test Accuracy: 85.22\n",
            "Epoch ( 39 / 50 ) | Train Loss: 0.1458 | Train Accuracy: 95.79 || Test Loss: 0.4501 | Test Accuracy: 85.58\n",
            "Epoch ( 40 / 50 ) | Train Loss: 0.1314 | Train Accuracy: 96.36 || Test Loss: 0.4791 | Test Accuracy: 85.23\n",
            "Epoch ( 41 / 50 ) | Train Loss: 0.1224 | Train Accuracy: 96.704 || Test Loss: 0.4359 | Test Accuracy: 86.35\n",
            "Epoch ( 42 / 50 ) | Train Loss: 0.1104 | Train Accuracy: 97.058 || Test Loss: 0.4488 | Test Accuracy: 86.08\n",
            "Epoch ( 43 / 50 ) | Train Loss: 0.0994 | Train Accuracy: 97.59 || Test Loss: 0.449 | Test Accuracy: 86.04\n",
            "Epoch ( 44 / 50 ) | Train Loss: 0.0912 | Train Accuracy: 97.76 || Test Loss: 0.4119 | Test Accuracy: 86.88\n",
            "Epoch ( 45 / 50 ) | Train Loss: 0.0838 | Train Accuracy: 98.084 || Test Loss: 0.4256 | Test Accuracy: 86.68\n",
            "Epoch ( 46 / 50 ) | Train Loss: 0.0757 | Train Accuracy: 98.33 || Test Loss: 0.426 | Test Accuracy: 87.06\n",
            "Epoch ( 47 / 50 ) | Train Loss: 0.0681 | Train Accuracy: 98.632 || Test Loss: 0.4157 | Test Accuracy: 87.2\n",
            "Epoch ( 48 / 50 ) | Train Loss: 0.0636 | Train Accuracy: 98.736 || Test Loss: 0.4144 | Test Accuracy: 87.32\n",
            "Epoch ( 49 / 50 ) | Train Loss: 0.0591 | Train Accuracy: 98.938 || Test Loss: 0.4106 | Test Accuracy: 87.38\n",
            "Epoch ( 50 / 50 ) | Train Loss: 0.0564 | Train Accuracy: 98.988 || Test Loss: 0.4148 | Test Accuracy: 87.24\n"
          ]
        }
      ]
    },
    {
      "cell_type": "markdown",
      "metadata": {
        "id": "yPNArFCpMSBJ"
      },
      "source": [
        "Validation error = 12.76%"
      ]
    },
    {
      "cell_type": "markdown",
      "metadata": {
        "id": "gRZ796TdLi0g"
      },
      "source": [
        "It can be observed that after training the network for 50 epochs, the first two settings, ηmax & ρ = 0.9 and ηmax ← 5ηmax and ρ = 0.5 resulted in a validation error of 12.56% and 12.76% respectively. These are about the same because we keep the ηmax/(1−ρ) constant."
      ]
    },
    {
      "cell_type": "markdown",
      "metadata": {
        "id": "aXIk36ZTnroc"
      },
      "source": [
        "#### (iii) Training with ηmax ← ηmax and ρ = 0.5"
      ]
    },
    {
      "cell_type": "code",
      "metadata": {
        "id": "6Adp-upkns4H",
        "colab": {
          "base_uri": "https://localhost:8080/"
        },
        "outputId": "5daab61f-921f-4442-c000-5c63b1c58a43"
      },
      "source": [
        "#Defining the hyperparameters\n",
        "model = allcnn_t().to(device)\n",
        "epochs = 50\n",
        "T = epochs * 391\n",
        "T_0 = T/5\n",
        "max_lr = optim_lr/10\n",
        "start_lr = 1e-4\n",
        "criterion = nn.CrossEntropyLoss()\n",
        "optimizer = optim.SGD(model.parameters(), lr=start_lr, momentum=0.5, weight_decay=1e-3, nesterov=True)\n",
        "\n",
        "train_loss_tot = []\n",
        "train_acc_tot = []\n",
        "test_loss_tot = []\n",
        "test_acc_tot = []\n",
        "train_loss_batch = []\n",
        "all_lr = []\n",
        "n_wu = []\n",
        "\n",
        "model = model.to(device)\n",
        "total_step = len(trainloader)\n",
        "overall_step = 0\n",
        "t=0\n",
        "for epoch in range(epochs):\n",
        "    count1 = 0\n",
        "    count2 = 0\n",
        "    correct = 0\n",
        "    total = 0\n",
        "    train_loss=0\n",
        "    test_loss=0\n",
        "    model.train()\n",
        "\n",
        "    for i, (images, labels) in enumerate(trainloader):\n",
        "        t+=1\n",
        "        images = images.to(device)\n",
        "        labels = labels.to(device)\n",
        "        outputs = model(images)\n",
        "        loss = criterion(outputs, labels)\n",
        "        optimizer.zero_grad()\n",
        "        loss.backward()\n",
        "        optimizer.step()\n",
        "        if(t < T_0):\n",
        "          optimizer.param_groups[0]['lr'] = 1e-4 + (t / T_0) * max_lr\n",
        "        else:\n",
        "          optimizer.param_groups[0]['lr'] = max_lr * np.cos((np.pi/2) * ((t-T_0)/(T-T_0))) + 1e-6\n",
        "        \n",
        "        train_loss += loss.item()\n",
        "        _, predicted = outputs.max(1)\n",
        "        total += labels.size(0)\n",
        "        correct += predicted.eq(labels).sum().item()\n",
        "        count1+=1\n",
        "\n",
        "    all_lr.append(optimizer.param_groups[0]['lr'])\n",
        "    n_wu.append(t)\n",
        "    train_loss = train_loss/count1\n",
        "    train_acc = 100*correct/total\n",
        "    train_loss_tot = np.append(train_loss_tot, train_loss)\n",
        "    train_acc_tot = np.append(train_acc_tot, train_acc)\n",
        "\n",
        "    model.eval()\n",
        "    with torch.no_grad():\n",
        "        correct = 0\n",
        "        total = 0\n",
        "        for i, (images, labels) in enumerate(testloader):\n",
        "            images = images.to(device)\n",
        "            labels = labels.to(device)\n",
        "            outputs = model(images)\n",
        "            loss = criterion(outputs, labels)\n",
        "            _, predicted = torch.max(outputs.data, 1)\n",
        "            total += labels.size(0)\n",
        "            correct += (predicted == labels).sum().item()\n",
        "            test_loss += loss.item()\n",
        "            count2+=1\n",
        "\n",
        "    test_loss = test_loss/count2\n",
        "    test_acc = 100*correct/total\n",
        "    test_loss_tot = np.append(test_loss_tot, test_loss)\n",
        "    test_acc_tot = np.append(test_acc_tot, test_acc)\n",
        "    print(\"Epoch (\",epoch+1,\"/\",epochs,\") | Train Loss:\", round(train_loss, 4), \"| Train Accuracy:\", train_acc, \"|| Test Loss:\", round(test_loss,4), \"| Test Accuracy:\", test_acc)\n"
      ],
      "execution_count": null,
      "outputs": [
        {
          "output_type": "stream",
          "name": "stdout",
          "text": [
            "Num parameters:  1667166\n",
            "Epoch ( 1 / 50 ) | Train Loss: 2.1541 | Train Accuracy: 20.216 || Test Loss: 2.3652 | Test Accuracy: 17.19\n",
            "Epoch ( 2 / 50 ) | Train Loss: 1.8882 | Train Accuracy: 32.184 || Test Loss: 2.1936 | Test Accuracy: 23.11\n",
            "Epoch ( 3 / 50 ) | Train Loss: 1.7285 | Train Accuracy: 39.394 || Test Loss: 1.9743 | Test Accuracy: 29.77\n",
            "Epoch ( 4 / 50 ) | Train Loss: 1.6011 | Train Accuracy: 44.988 || Test Loss: 1.8479 | Test Accuracy: 34.37\n",
            "Epoch ( 5 / 50 ) | Train Loss: 1.4835 | Train Accuracy: 49.634 || Test Loss: 1.6481 | Test Accuracy: 40.88\n",
            "Epoch ( 6 / 50 ) | Train Loss: 1.3751 | Train Accuracy: 53.676 || Test Loss: 1.5926 | Test Accuracy: 43.12\n",
            "Epoch ( 7 / 50 ) | Train Loss: 1.2794 | Train Accuracy: 56.93 || Test Loss: 1.6169 | Test Accuracy: 45.02\n",
            "Epoch ( 8 / 50 ) | Train Loss: 1.195 | Train Accuracy: 59.54 || Test Loss: 1.412 | Test Accuracy: 50.59\n",
            "Epoch ( 9 / 50 ) | Train Loss: 1.1177 | Train Accuracy: 62.156 || Test Loss: 1.2797 | Test Accuracy: 55.81\n",
            "Epoch ( 10 / 50 ) | Train Loss: 1.0502 | Train Accuracy: 64.752 || Test Loss: 1.1234 | Test Accuracy: 60.88\n",
            "Epoch ( 11 / 50 ) | Train Loss: 0.9872 | Train Accuracy: 66.588 || Test Loss: 1.0765 | Test Accuracy: 62.54\n",
            "Epoch ( 12 / 50 ) | Train Loss: 0.9281 | Train Accuracy: 69.008 || Test Loss: 1.0657 | Test Accuracy: 62.9\n",
            "Epoch ( 13 / 50 ) | Train Loss: 0.8759 | Train Accuracy: 70.486 || Test Loss: 0.9901 | Test Accuracy: 66.07\n",
            "Epoch ( 14 / 50 ) | Train Loss: 0.8277 | Train Accuracy: 72.198 || Test Loss: 0.8911 | Test Accuracy: 69.56\n",
            "Epoch ( 15 / 50 ) | Train Loss: 0.7865 | Train Accuracy: 73.856 || Test Loss: 0.9083 | Test Accuracy: 69.27\n",
            "Epoch ( 16 / 50 ) | Train Loss: 0.7489 | Train Accuracy: 75.136 || Test Loss: 0.8346 | Test Accuracy: 71.44\n",
            "Epoch ( 17 / 50 ) | Train Loss: 0.7251 | Train Accuracy: 75.734 || Test Loss: 0.8543 | Test Accuracy: 71.26\n",
            "Epoch ( 18 / 50 ) | Train Loss: 0.6909 | Train Accuracy: 76.994 || Test Loss: 0.8017 | Test Accuracy: 72.57\n",
            "Epoch ( 19 / 50 ) | Train Loss: 0.6692 | Train Accuracy: 77.626 || Test Loss: 0.7991 | Test Accuracy: 73.05\n",
            "Epoch ( 20 / 50 ) | Train Loss: 0.6442 | Train Accuracy: 78.716 || Test Loss: 0.7808 | Test Accuracy: 73.58\n",
            "Epoch ( 21 / 50 ) | Train Loss: 0.6193 | Train Accuracy: 79.474 || Test Loss: 0.7773 | Test Accuracy: 74.04\n",
            "Epoch ( 22 / 50 ) | Train Loss: 0.5998 | Train Accuracy: 80.136 || Test Loss: 0.741 | Test Accuracy: 74.94\n",
            "Epoch ( 23 / 50 ) | Train Loss: 0.5829 | Train Accuracy: 80.698 || Test Loss: 0.7001 | Test Accuracy: 76.3\n",
            "Epoch ( 24 / 50 ) | Train Loss: 0.5628 | Train Accuracy: 81.526 || Test Loss: 0.7608 | Test Accuracy: 74.81\n",
            "Epoch ( 25 / 50 ) | Train Loss: 0.5481 | Train Accuracy: 81.94 || Test Loss: 0.7248 | Test Accuracy: 75.72\n",
            "Epoch ( 26 / 50 ) | Train Loss: 0.5332 | Train Accuracy: 82.432 || Test Loss: 0.7167 | Test Accuracy: 75.82\n",
            "Epoch ( 27 / 50 ) | Train Loss: 0.5188 | Train Accuracy: 82.844 || Test Loss: 0.6756 | Test Accuracy: 77.53\n",
            "Epoch ( 28 / 50 ) | Train Loss: 0.5039 | Train Accuracy: 83.304 || Test Loss: 0.6947 | Test Accuracy: 76.66\n",
            "Epoch ( 29 / 50 ) | Train Loss: 0.4911 | Train Accuracy: 83.872 || Test Loss: 0.6516 | Test Accuracy: 78.08\n",
            "Epoch ( 30 / 50 ) | Train Loss: 0.4793 | Train Accuracy: 84.208 || Test Loss: 0.6646 | Test Accuracy: 78.25\n",
            "Epoch ( 31 / 50 ) | Train Loss: 0.4603 | Train Accuracy: 84.882 || Test Loss: 0.6856 | Test Accuracy: 77.43\n",
            "Epoch ( 32 / 50 ) | Train Loss: 0.4444 | Train Accuracy: 85.658 || Test Loss: 0.6536 | Test Accuracy: 78.24\n",
            "Epoch ( 33 / 50 ) | Train Loss: 0.4399 | Train Accuracy: 85.784 || Test Loss: 0.7126 | Test Accuracy: 76.68\n",
            "Epoch ( 34 / 50 ) | Train Loss: 0.4269 | Train Accuracy: 86.096 || Test Loss: 0.6848 | Test Accuracy: 77.66\n",
            "Epoch ( 35 / 50 ) | Train Loss: 0.4145 | Train Accuracy: 86.496 || Test Loss: 0.6449 | Test Accuracy: 79.26\n",
            "Epoch ( 36 / 50 ) | Train Loss: 0.4052 | Train Accuracy: 86.908 || Test Loss: 0.6358 | Test Accuracy: 79.15\n",
            "Epoch ( 37 / 50 ) | Train Loss: 0.3946 | Train Accuracy: 87.324 || Test Loss: 0.6141 | Test Accuracy: 79.76\n",
            "Epoch ( 38 / 50 ) | Train Loss: 0.3815 | Train Accuracy: 87.594 || Test Loss: 0.6786 | Test Accuracy: 77.71\n",
            "Epoch ( 39 / 50 ) | Train Loss: 0.369 | Train Accuracy: 88.208 || Test Loss: 0.6514 | Test Accuracy: 78.91\n",
            "Epoch ( 40 / 50 ) | Train Loss: 0.3606 | Train Accuracy: 88.518 || Test Loss: 0.6651 | Test Accuracy: 78.58\n",
            "Epoch ( 41 / 50 ) | Train Loss: 0.3484 | Train Accuracy: 88.964 || Test Loss: 0.6108 | Test Accuracy: 80.32\n",
            "Epoch ( 42 / 50 ) | Train Loss: 0.3454 | Train Accuracy: 89.214 || Test Loss: 0.6171 | Test Accuracy: 79.96\n",
            "Epoch ( 43 / 50 ) | Train Loss: 0.3293 | Train Accuracy: 89.648 || Test Loss: 0.626 | Test Accuracy: 79.72\n",
            "Epoch ( 44 / 50 ) | Train Loss: 0.3217 | Train Accuracy: 89.994 || Test Loss: 0.6106 | Test Accuracy: 79.92\n",
            "Epoch ( 45 / 50 ) | Train Loss: 0.3182 | Train Accuracy: 90.102 || Test Loss: 0.6109 | Test Accuracy: 80.06\n",
            "Epoch ( 46 / 50 ) | Train Loss: 0.3064 | Train Accuracy: 90.552 || Test Loss: 0.5897 | Test Accuracy: 80.86\n",
            "Epoch ( 47 / 50 ) | Train Loss: 0.2983 | Train Accuracy: 90.904 || Test Loss: 0.6072 | Test Accuracy: 80.37\n",
            "Epoch ( 48 / 50 ) | Train Loss: 0.2901 | Train Accuracy: 91.328 || Test Loss: 0.6089 | Test Accuracy: 80.17\n",
            "Epoch ( 49 / 50 ) | Train Loss: 0.2876 | Train Accuracy: 91.42 || Test Loss: 0.5884 | Test Accuracy: 80.87\n",
            "Epoch ( 50 / 50 ) | Train Loss: 0.282 | Train Accuracy: 91.438 || Test Loss: 0.5842 | Test Accuracy: 81.01\n"
          ]
        }
      ]
    },
    {
      "cell_type": "markdown",
      "metadata": {
        "id": "1RdJ_ndcMuiG"
      },
      "source": [
        "Validation error = 18.99%"
      ]
    },
    {
      "cell_type": "markdown",
      "metadata": {
        "id": "oQyXz2_0M3Gm"
      },
      "source": [
        "It can be observed that when we set ηmax ← ηmax and ρ = 0.5, the training error increases to 18.99% from ~12.6%"
      ]
    },
    {
      "cell_type": "code",
      "metadata": {
        "id": "n0gLiVlkNIpK"
      },
      "source": [],
      "execution_count": null,
      "outputs": []
    }
  ]
}